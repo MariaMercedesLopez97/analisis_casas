{
 "cells": [
  {
   "cell_type": "markdown",
   "metadata": {},
   "source": [
    "Parte 2: Análisis de Datos de Energía: Buscarás patrones en datos de consumo y mercado eléctrico, con la posibilidad de optimizar el consumo o incluso \"alimentar\" un centro de datos con energía barata. Se proporcionan conjuntos de datos de España y Brasil, con la opción de añadir otros."
   ]
  }
 ],
 "metadata": {
  "language_info": {
   "name": "python"
  }
 },
 "nbformat": 4,
 "nbformat_minor": 2
}
